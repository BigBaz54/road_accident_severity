{
 "cells": [
  {
   "cell_type": "markdown",
   "metadata": {},
   "source": [
    "# Feature selection"
   ]
  },
  {
   "cell_type": "code",
   "execution_count": 9,
   "metadata": {},
   "outputs": [],
   "source": [
    "from src.data_management import *"
   ]
  },
  {
   "cell_type": "markdown",
   "metadata": {},
   "source": [
    "### Loading data\n",
    "Data is stored in 4 csv files located in the `data` folder. The files are:\n",
    "- `caracteristiques-2022.csv` : contains the characteristics of the accidents\n",
    "- `lieux-2022.csv` : contains the location of the accidents\n",
    "- `usagers-2022.csv` : contains the users involved in the accidents\n",
    "- `vehicules-2022.csv` : contains the vehicles involved in the accidents"
   ]
  },
  {
   "cell_type": "code",
   "execution_count": 10,
   "metadata": {},
   "outputs": [],
   "source": [
    "caracteristiques = load_raw_data(\"data/caracteristiques-2022.csv\")\n",
    "lieux = load_raw_data(\"data/lieux-2022.csv\")\n",
    "usagers = load_raw_data(\"data/usagers-2022.csv\")\n",
    "vehicules = load_raw_data(\"data/vehicules-2022.csv\")"
   ]
  },
  {
   "cell_type": "markdown",
   "metadata": {},
   "source": [
    "### Merging the datasets\n",
    "The goal being to predict the severity of an accident for a person, we want to keep 1 row per person. We will therefore merge the vehicles and the users datasets on 'id_vehicule' and then merge the resulting dataset with the characteristics dataset and the location dataset on 'Num_Acc'. "
   ]
  },
  {
   "cell_type": "code",
   "execution_count": 11,
   "metadata": {},
   "outputs": [],
   "source": [
    "joined_data = joined_data(caracteristiques, lieux, usagers, vehicules)"
   ]
  },
  {
   "cell_type": "markdown",
   "metadata": {},
   "source": [
    "### Processing data\n",
    "To prepare the data for the analysis, we replace the birth year 'an_nais' by the age of the user 'age' and we add a column 'secu' that contains the number of security equipments used by the user."
   ]
  },
  {
   "cell_type": "code",
   "execution_count": 12,
   "metadata": {},
   "outputs": [],
   "source": [
    "data = process_data(joined_data)"
   ]
  },
  {
   "cell_type": "markdown",
   "metadata": {},
   "source": [
    "### Feature selection\n",
    "We can now select the features that we want to use for the analysis. We will use the following features."
   ]
  },
  {
   "cell_type": "code",
   "execution_count": null,
   "metadata": {},
   "outputs": [],
   "source": [
    "selected_features = [\n",
    "    'Num_Acc', \n",
    "    'id_usager', \n",
    "    'id_vehicule', \n",
    "    'num_veh_x', \n",
    "    'place', \n",
    "    'catu',\n",
    "    'grav', \n",
    "\t'sexe', \n",
    "    'trajet', \n",
    "    'secu1', \n",
    "    'secu2', \n",
    "    'secu3', \n",
    "    'locp', \n",
    "    'actp',\n",
    "    'etatp', \n",
    "    'num_veh_y', \n",
    "    'senc', \n",
    "    'catv', \n",
    "    'obs', \n",
    "    'obsm', \n",
    "    'choc', \n",
    "    'manv',\n",
    "    'motor', \n",
    "    'occutc', \n",
    "    'catr', \n",
    "    'voie', \n",
    "    'v1', \n",
    "    'v2', \n",
    "    'circ', \n",
    "    'nbv', \n",
    "    'vosp',\n",
    "    'prof', \n",
    "    'pr', \n",
    "    'pr1', \n",
    "    'plan', \n",
    "    'lartpc', \n",
    "    'larrout', \n",
    "    'surf', \n",
    "    'infra',\n",
    "    'situ', \n",
    "    'vma', \n",
    "    'jour', \n",
    "    'mois', \n",
    "    'an', \n",
    "    'hrmn', \n",
    "    'lum', \n",
    "    'dep', \n",
    "    'com', \n",
    "    'agg',\n",
    "    'int', \n",
    "    'atm', \n",
    "    'col', \n",
    "    'adr', \n",
    "    'lat', \n",
    "    'long', \n",
    "    'age', \n",
    "\t'secu'\n",
    "]"
   ]
  }
 ],
 "metadata": {
  "kernelspec": {
   "display_name": "Python 3",
   "language": "python",
   "name": "python3"
  },
  "language_info": {
   "codemirror_mode": {
    "name": "ipython",
    "version": 3
   },
   "file_extension": ".py",
   "mimetype": "text/x-python",
   "name": "python",
   "nbconvert_exporter": "python",
   "pygments_lexer": "ipython3",
   "version": "3.10.4"
  }
 },
 "nbformat": 4,
 "nbformat_minor": 2
}
